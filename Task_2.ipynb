{
 "cells": [
  {
   "cell_type": "code",
   "execution_count": 6,
   "metadata": {},
   "outputs": [],
   "source": [
    "import os\n",
    "\n",
    "import pandas as pd\n",
    "import numpy as np\n",
    "import pandas_gbq\n",
    "\n",
    "from google.cloud import bigquery\n",
    "from google.oauth2 import service_account\n",
    "\n",
    "import sqlite3"
   ]
  },
  {
   "cell_type": "code",
   "execution_count": 14,
   "metadata": {},
   "outputs": [],
   "source": [
    "credentials_path = 'UMT-MSBA-17ad1778bcbd 1.json'\n",
    "client = bigquery.Client.from_service_account_json(credentials_path)\n",
    "\n",
    "#Your SQL query\n",
    "sql_query = \"\"\"\n",
    "WITH rand_cte AS(\n",
    "SELECT DISTINCT card_no\n",
    "  FROM `umt-msba.transactions.transArchive_*` \n",
    "  WHERE card_no != 3\n",
    "  ORDER BY RAND()\n",
    "  LIMIT 80\n",
    ")\n",
    "  SELECT *\n",
    "  FROM `umt-msba.transactions.transArchive_*` AS trans\n",
    "  JOIN rand_cte\n",
    "  ON rand_cte.card_no = trans.card_no\n",
    "\"\"\"\n",
    "# Run the query\n",
    "query_job = client.query(sql_query)\n",
    "\n",
    "# Fetch the results into a pandas DataFrame\n",
    "result_df = query_job.to_dataframe()\n",
    "\n",
    "# Save the DataFrame to a CSV file (or any other desired format)\n",
    "result_df.to_csv('result_dataset.csv', index=False)\n",
    "  "
   ]
  }
 ],
 "metadata": {
  "kernelspec": {
   "display_name": ".venv",
   "language": "python",
   "name": "python3"
  },
  "language_info": {
   "codemirror_mode": {
    "name": "ipython",
    "version": 3
   },
   "file_extension": ".py",
   "mimetype": "text/x-python",
   "name": "python",
   "nbconvert_exporter": "python",
   "pygments_lexer": "ipython3",
   "version": "3.12.0"
  }
 },
 "nbformat": 4,
 "nbformat_minor": 2
}
