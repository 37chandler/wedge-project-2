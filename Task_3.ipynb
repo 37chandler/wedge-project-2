{
 "cells": [
  {
   "cell_type": "code",
   "execution_count": 85,
   "metadata": {},
   "outputs": [
    {
     "name": "stderr",
     "output_type": "stream",
     "text": [
      "100%|██████████| 9000000/9000000 [00:01<00:00, 7801261.43it/s]\n"
     ]
    }
   ],
   "source": [
    "import os\n",
    "\n",
    "import pandas as pd\n",
    "import numpy as np\n",
    "import pandas_gbq\n",
    "\n",
    "from google.cloud import bigquery\n",
    "from google.oauth2 import service_account\n",
    "\n",
    "import sqlite3\n",
    "\n",
    "from tqdm import tqdm\n",
    " \n",
    " \n",
    "for i in tqdm(range(int(9e6))):\n",
    "    pass"
   ]
  },
  {
   "cell_type": "code",
   "execution_count": null,
   "metadata": {},
   "outputs": [],
   "source": [
    "pip install tqdm"
   ]
  },
  {
   "cell_type": "code",
   "execution_count": 56,
   "metadata": {},
   "outputs": [
    {
     "name": "stdout",
     "output_type": "stream",
     "text": [
      "umt-msba:dram_shop\n",
      "umt-msba:transactions\n",
      "umt-msba:wedge_example\n",
      "umt-msba:wedge_transactions\n"
     ]
    }
   ],
   "source": [
    "service_path = \"\"\n",
    "service_file = 'umt-msba-gg-key.json'\n",
    "\n",
    "gbq_proj_id = 'umt-msba'\n",
    "\n",
    "private_key = service_path + service_file   \n",
    "\n",
    "credentials = service_account.Credentials.from_service_account_file(private_key)\n",
    "client = bigquery.Client(credentials = credentials, project=gbq_proj_id)\n",
    "for item in client.list_datasets() :\n",
    "    print(item.full_dataset_id)"
   ]
  },
  {
   "cell_type": "code",
   "execution_count": 61,
   "metadata": {},
   "outputs": [],
   "source": [
    "query=\"\"\"\n",
    "\n",
    "SELECT\n",
    " DATE(datetime) AS formatted_date,\n",
    " EXTRACT(hour FROM TIMESTAMP(datetime)) AS hour,\n",
    " ROUND(SUM(total), 2) AS spend,\n",
    " COUNT(DISTINCT(CONCAT(EXTRACT(date FROM datetime),register_no,emp_no,trans_no))) AS trans,\n",
    " SUM(CASE WHEN trans_status in (\"R\", \"V\") THEN -1 ELSE 1 END) AS items\n",
    "FROM `umt-msba.transactions.transArchive_*`\n",
    "WHERE department not in (0, 15) AND\n",
    "(trans_status is null OR\n",
    "trans_status in (\"R\",\"V\", \" \"))\n",
    "GROUP BY formatted_date, hour \n",
    "ORDER BY formatted_date, hour;\n",
    "\n",
    "\"\"\""
   ]
  },
  {
   "cell_type": "code",
   "execution_count": 62,
   "metadata": {},
   "outputs": [],
   "source": [
    "conn = sqlite3.connect(\"reporting.db\")"
   ]
  },
  {
   "cell_type": "code",
   "execution_count": 63,
   "metadata": {},
   "outputs": [
    {
     "name": "stderr",
     "output_type": "stream",
     "text": [
      "c:\\ADA\\Wedge\\wedge-project\\.venv\\Lib\\site-packages\\google\\cloud\\bigquery\\table.py:2153: UserWarning: A progress bar was requested, but there was an error loading the tqdm library. Please install tqdm to use the progress bar functionality.\n",
      "  record_batch = self.to_arrow(\n"
     ]
    }
   ],
   "source": [
    "holder = pandas_gbq.read_gbq(query,project_id=gbq_proj_id,credentials=credentials)"
   ]
  },
  {
   "cell_type": "code",
   "execution_count": 67,
   "metadata": {},
   "outputs": [
    {
     "data": {
      "text/html": [
       "<div>\n",
       "<style scoped>\n",
       "    .dataframe tbody tr th:only-of-type {\n",
       "        vertical-align: middle;\n",
       "    }\n",
       "\n",
       "    .dataframe tbody tr th {\n",
       "        vertical-align: top;\n",
       "    }\n",
       "\n",
       "    .dataframe thead th {\n",
       "        text-align: right;\n",
       "    }\n",
       "</style>\n",
       "<table border=\"1\" class=\"dataframe\">\n",
       "  <thead>\n",
       "    <tr style=\"text-align: right;\">\n",
       "      <th></th>\n",
       "      <th>formatted_date</th>\n",
       "      <th>hour</th>\n",
       "      <th>spend</th>\n",
       "      <th>trans</th>\n",
       "      <th>items</th>\n",
       "    </tr>\n",
       "  </thead>\n",
       "  <tbody>\n",
       "    <tr>\n",
       "      <th>0</th>\n",
       "      <td>2010-01-01</td>\n",
       "      <td>9</td>\n",
       "      <td>1006.28</td>\n",
       "      <td>36</td>\n",
       "      <td>245</td>\n",
       "    </tr>\n",
       "    <tr>\n",
       "      <th>1</th>\n",
       "      <td>2010-01-01</td>\n",
       "      <td>10</td>\n",
       "      <td>3128.55</td>\n",
       "      <td>82</td>\n",
       "      <td>913</td>\n",
       "    </tr>\n",
       "    <tr>\n",
       "      <th>2</th>\n",
       "      <td>2010-01-01</td>\n",
       "      <td>11</td>\n",
       "      <td>4001.66</td>\n",
       "      <td>118</td>\n",
       "      <td>1108</td>\n",
       "    </tr>\n",
       "    <tr>\n",
       "      <th>3</th>\n",
       "      <td>2010-01-01</td>\n",
       "      <td>12</td>\n",
       "      <td>3886.51</td>\n",
       "      <td>124</td>\n",
       "      <td>1143</td>\n",
       "    </tr>\n",
       "    <tr>\n",
       "      <th>4</th>\n",
       "      <td>2010-01-01</td>\n",
       "      <td>13</td>\n",
       "      <td>4654.52</td>\n",
       "      <td>154</td>\n",
       "      <td>1365</td>\n",
       "    </tr>\n",
       "  </tbody>\n",
       "</table>\n",
       "</div>"
      ],
      "text/plain": [
       "  formatted_date  hour    spend  trans  items\n",
       "0     2010-01-01     9  1006.28     36    245\n",
       "1     2010-01-01    10  3128.55     82    913\n",
       "2     2010-01-01    11  4001.66    118   1108\n",
       "3     2010-01-01    12  3886.51    124   1143\n",
       "4     2010-01-01    13  4654.52    154   1365"
      ]
     },
     "execution_count": 67,
     "metadata": {},
     "output_type": "execute_result"
    }
   ],
   "source": [
    "holder.head()"
   ]
  },
  {
   "cell_type": "code",
   "execution_count": 68,
   "metadata": {},
   "outputs": [
    {
     "data": {
      "text/plain": [
       "39330"
      ]
     },
     "execution_count": 68,
     "metadata": {},
     "output_type": "execute_result"
    }
   ],
   "source": [
    "holder.to_sql(\"date_hour\",conn,if_exists=\"replace\",index=False)"
   ]
  },
  {
   "cell_type": "code",
   "execution_count": 69,
   "metadata": {},
   "outputs": [],
   "source": [
    "conn.close()"
   ]
  },
  {
   "cell_type": "code",
   "execution_count": 71,
   "metadata": {},
   "outputs": [],
   "source": [
    "query=\"\"\"\n",
    "SELECT\n",
    "    card_no,\n",
    "    EXTRACT(YEAR FROM datetime) AS year,\n",
    "    EXTRACT(MONTH FROM datetime) AS month,\n",
    "    ROUND(SUM(total)) AS sales,\n",
    "    COUNT(DISTINCT(CONCAT(EXTRACT(date FROM datetime),register_no,emp_no,trans_no))) AS trans,\n",
    "    SUM(CASE WHEN trans_status in (\"R\", \"V\") THEN -1 ELSE 1 END) AS items\n",
    "FROM `umt-msba.transactions.transArchive_*`\n",
    "WHERE department not in (0, 15) AND\n",
    "(trans_status is null OR\n",
    "trans_status in (\"R\",\"V\", \" \"))\n",
    "GROUP BY\n",
    "    card_no, year, month\n",
    "ORDER BY\n",
    "    card_no, year, month;\n",
    "\"\"\""
   ]
  },
  {
   "cell_type": "code",
   "execution_count": 72,
   "metadata": {},
   "outputs": [],
   "source": [
    "conn = sqlite3.connect(\"reporting.db\")"
   ]
  },
  {
   "cell_type": "code",
   "execution_count": 73,
   "metadata": {},
   "outputs": [
    {
     "name": "stderr",
     "output_type": "stream",
     "text": [
      "c:\\ADA\\Wedge\\wedge-project\\.venv\\Lib\\site-packages\\google\\cloud\\bigquery\\table.py:2153: UserWarning: A progress bar was requested, but there was an error loading the tqdm library. Please install tqdm to use the progress bar functionality.\n",
      "  record_batch = self.to_arrow(\n"
     ]
    }
   ],
   "source": [
    "holder = pandas_gbq.read_gbq(query,project_id=gbq_proj_id,credentials=credentials)"
   ]
  },
  {
   "cell_type": "code",
   "execution_count": 74,
   "metadata": {},
   "outputs": [
    {
     "data": {
      "text/html": [
       "<div>\n",
       "<style scoped>\n",
       "    .dataframe tbody tr th:only-of-type {\n",
       "        vertical-align: middle;\n",
       "    }\n",
       "\n",
       "    .dataframe tbody tr th {\n",
       "        vertical-align: top;\n",
       "    }\n",
       "\n",
       "    .dataframe thead th {\n",
       "        text-align: right;\n",
       "    }\n",
       "</style>\n",
       "<table border=\"1\" class=\"dataframe\">\n",
       "  <thead>\n",
       "    <tr style=\"text-align: right;\">\n",
       "      <th></th>\n",
       "      <th>card_no</th>\n",
       "      <th>year</th>\n",
       "      <th>month</th>\n",
       "      <th>sales</th>\n",
       "      <th>trans</th>\n",
       "      <th>items</th>\n",
       "    </tr>\n",
       "  </thead>\n",
       "  <tbody>\n",
       "    <tr>\n",
       "      <th>0</th>\n",
       "      <td>3.0</td>\n",
       "      <td>2010</td>\n",
       "      <td>1</td>\n",
       "      <td>505049.0</td>\n",
       "      <td>21675</td>\n",
       "      <td>145549</td>\n",
       "    </tr>\n",
       "    <tr>\n",
       "      <th>1</th>\n",
       "      <td>3.0</td>\n",
       "      <td>2010</td>\n",
       "      <td>2</td>\n",
       "      <td>490014.0</td>\n",
       "      <td>21113</td>\n",
       "      <td>141309</td>\n",
       "    </tr>\n",
       "    <tr>\n",
       "      <th>2</th>\n",
       "      <td>3.0</td>\n",
       "      <td>2010</td>\n",
       "      <td>3</td>\n",
       "      <td>563682.0</td>\n",
       "      <td>25755</td>\n",
       "      <td>164673</td>\n",
       "    </tr>\n",
       "    <tr>\n",
       "      <th>3</th>\n",
       "      <td>3.0</td>\n",
       "      <td>2010</td>\n",
       "      <td>4</td>\n",
       "      <td>563672.0</td>\n",
       "      <td>26264</td>\n",
       "      <td>162704</td>\n",
       "    </tr>\n",
       "    <tr>\n",
       "      <th>4</th>\n",
       "      <td>3.0</td>\n",
       "      <td>2010</td>\n",
       "      <td>5</td>\n",
       "      <td>578451.0</td>\n",
       "      <td>27371</td>\n",
       "      <td>165280</td>\n",
       "    </tr>\n",
       "  </tbody>\n",
       "</table>\n",
       "</div>"
      ],
      "text/plain": [
       "   card_no  year  month     sales  trans   items\n",
       "0      3.0  2010      1  505049.0  21675  145549\n",
       "1      3.0  2010      2  490014.0  21113  141309\n",
       "2      3.0  2010      3  563682.0  25755  164673\n",
       "3      3.0  2010      4  563672.0  26264  162704\n",
       "4      3.0  2010      5  578451.0  27371  165280"
      ]
     },
     "execution_count": 74,
     "metadata": {},
     "output_type": "execute_result"
    }
   ],
   "source": [
    "holder.head()"
   ]
  },
  {
   "cell_type": "code",
   "execution_count": 75,
   "metadata": {},
   "outputs": [
    {
     "data": {
      "text/plain": [
       "808896"
      ]
     },
     "execution_count": 75,
     "metadata": {},
     "output_type": "execute_result"
    }
   ],
   "source": [
    "holder.to_sql(\"owner_year_month\",conn,if_exists=\"replace\",index=False)"
   ]
  },
  {
   "cell_type": "code",
   "execution_count": 76,
   "metadata": {},
   "outputs": [],
   "source": [
    "conn.close()"
   ]
  },
  {
   "cell_type": "code",
   "execution_count": 82,
   "metadata": {},
   "outputs": [],
   "source": [
    "query=\"\"\"\n",
    "SELECT\n",
    "    LPAD(CAST(upc AS STRING), 14) AS upc,\n",
    "    description,\n",
    "    trans.department AS department_number,\n",
    "    dept_name AS department_name,\n",
    "    EXTRACT(YEAR FROM datetime) AS year,\n",
    "    EXTRACT(MONTH FROM datetime) AS month,\n",
    "    ROUND(SUM(total),2) AS sales,\n",
    "    COUNT(DISTINCT(CONCAT(EXTRACT(date FROM datetime),register_no,emp_no,trans_no))) AS transactions,\n",
    "    SUM(CASE WHEN trans_status in (\"R\", \"V\") THEN -1 ELSE 1 END) AS items\n",
    "FROM `umt-msba.transactions.transArchive_*` AS trans\n",
    "JOIN `umt-msba.transactions.department_lookup` AS d\n",
    "ON d.department = trans.department\n",
    "WHERE trans.department not IN (0, 15) AND\n",
    "(trans_status is null OR\n",
    "trans_status in (\"R\",\"V\", \" \"))\n",
    "GROUP BY\n",
    "    upc, description, trans.department, dept_name, year, month\n",
    "ORDER BY\n",
    "    description, year, month;\n",
    "\"\"\"\n"
   ]
  },
  {
   "cell_type": "code",
   "execution_count": 83,
   "metadata": {},
   "outputs": [],
   "source": [
    "conn = sqlite3.connect(\"reporting.db\")"
   ]
  },
  {
   "cell_type": "code",
   "execution_count": 86,
   "metadata": {},
   "outputs": [
    {
     "name": "stderr",
     "output_type": "stream",
     "text": [
      "c:\\ADA\\Wedge\\wedge-project\\.venv\\Lib\\site-packages\\google\\cloud\\bigquery\\table.py:2153: UserWarning: A progress bar was requested, but there was an error loading the tqdm library. Please install tqdm to use the progress bar functionality.\n",
      "  record_batch = self.to_arrow(\n"
     ]
    }
   ],
   "source": [
    "holder = pandas_gbq.read_gbq(query,project_id=gbq_proj_id,credentials=credentials)"
   ]
  },
  {
   "cell_type": "code",
   "execution_count": 87,
   "metadata": {},
   "outputs": [
    {
     "data": {
      "text/html": [
       "<div>\n",
       "<style scoped>\n",
       "    .dataframe tbody tr th:only-of-type {\n",
       "        vertical-align: middle;\n",
       "    }\n",
       "\n",
       "    .dataframe tbody tr th {\n",
       "        vertical-align: top;\n",
       "    }\n",
       "\n",
       "    .dataframe thead th {\n",
       "        text-align: right;\n",
       "    }\n",
       "</style>\n",
       "<table border=\"1\" class=\"dataframe\">\n",
       "  <thead>\n",
       "    <tr style=\"text-align: right;\">\n",
       "      <th></th>\n",
       "      <th>upc</th>\n",
       "      <th>description</th>\n",
       "      <th>department_number</th>\n",
       "      <th>department_name</th>\n",
       "      <th>year</th>\n",
       "      <th>month</th>\n",
       "      <th>sales</th>\n",
       "      <th>transactions</th>\n",
       "      <th>items</th>\n",
       "    </tr>\n",
       "  </thead>\n",
       "  <tbody>\n",
       "    <tr>\n",
       "      <th>0</th>\n",
       "      <td>0059484110076</td>\n",
       "      <td>* Manufacturers Coupon</td>\n",
       "      <td>11.0</td>\n",
       "      <td>PERSONAL CARE</td>\n",
       "      <td>2010</td>\n",
       "      <td>1</td>\n",
       "      <td>1.00</td>\n",
       "      <td>1</td>\n",
       "      <td>-1</td>\n",
       "    </tr>\n",
       "    <tr>\n",
       "      <th>1</th>\n",
       "      <td>0057468211475</td>\n",
       "      <td>* Manufacturers Coupon</td>\n",
       "      <td>1.0</td>\n",
       "      <td>PACKAGED GROCERY</td>\n",
       "      <td>2010</td>\n",
       "      <td>1</td>\n",
       "      <td>0.75</td>\n",
       "      <td>1</td>\n",
       "      <td>-1</td>\n",
       "    </tr>\n",
       "    <tr>\n",
       "      <th>2</th>\n",
       "      <td>0058131210014</td>\n",
       "      <td>* Manufacturers Coupon</td>\n",
       "      <td>5.0</td>\n",
       "      <td>CHEESE</td>\n",
       "      <td>2010</td>\n",
       "      <td>1</td>\n",
       "      <td>4.99</td>\n",
       "      <td>1</td>\n",
       "      <td>-1</td>\n",
       "    </tr>\n",
       "    <tr>\n",
       "      <th>3</th>\n",
       "      <td>0053291700176</td>\n",
       "      <td>* Manufacturers Coupon</td>\n",
       "      <td>1.0</td>\n",
       "      <td>PACKAGED GROCERY</td>\n",
       "      <td>2010</td>\n",
       "      <td>1</td>\n",
       "      <td>2.00</td>\n",
       "      <td>1</td>\n",
       "      <td>-2</td>\n",
       "    </tr>\n",
       "    <tr>\n",
       "      <th>4</th>\n",
       "      <td>0051868700009</td>\n",
       "      <td>* Manufacturers Coupon</td>\n",
       "      <td>6.0</td>\n",
       "      <td>FROZEN</td>\n",
       "      <td>2010</td>\n",
       "      <td>1</td>\n",
       "      <td>2.00</td>\n",
       "      <td>1</td>\n",
       "      <td>-1</td>\n",
       "    </tr>\n",
       "  </tbody>\n",
       "</table>\n",
       "</div>"
      ],
      "text/plain": [
       "              upc              description  department_number  \\\n",
       "0   0059484110076   * Manufacturers Coupon               11.0   \n",
       "1   0057468211475   * Manufacturers Coupon                1.0   \n",
       "2   0058131210014   * Manufacturers Coupon                5.0   \n",
       "3   0053291700176   * Manufacturers Coupon                1.0   \n",
       "4   0051868700009   * Manufacturers Coupon                6.0   \n",
       "\n",
       "    department_name  year  month  sales  transactions  items  \n",
       "0     PERSONAL CARE  2010      1   1.00             1     -1  \n",
       "1  PACKAGED GROCERY  2010      1   0.75             1     -1  \n",
       "2            CHEESE  2010      1   4.99             1     -1  \n",
       "3  PACKAGED GROCERY  2010      1   2.00             1     -2  \n",
       "4            FROZEN  2010      1   2.00             1     -1  "
      ]
     },
     "execution_count": 87,
     "metadata": {},
     "output_type": "execute_result"
    }
   ],
   "source": [
    "holder.head()"
   ]
  },
  {
   "cell_type": "code",
   "execution_count": 88,
   "metadata": {},
   "outputs": [
    {
     "data": {
      "text/plain": [
       "1184023"
      ]
     },
     "execution_count": 88,
     "metadata": {},
     "output_type": "execute_result"
    }
   ],
   "source": [
    "holder.to_sql(\"prod_desc_year_month\",conn,if_exists=\"replace\",index=False)"
   ]
  },
  {
   "cell_type": "code",
   "execution_count": 89,
   "metadata": {},
   "outputs": [],
   "source": [
    "conn.close()"
   ]
  }
 ],
 "metadata": {
  "kernelspec": {
   "display_name": ".venv",
   "language": "python",
   "name": "python3"
  },
  "language_info": {
   "codemirror_mode": {
    "name": "ipython",
    "version": 3
   },
   "file_extension": ".py",
   "mimetype": "text/x-python",
   "name": "python",
   "nbconvert_exporter": "python",
   "pygments_lexer": "ipython3",
   "version": "3.12.0"
  }
 },
 "nbformat": 4,
 "nbformat_minor": 2
}
